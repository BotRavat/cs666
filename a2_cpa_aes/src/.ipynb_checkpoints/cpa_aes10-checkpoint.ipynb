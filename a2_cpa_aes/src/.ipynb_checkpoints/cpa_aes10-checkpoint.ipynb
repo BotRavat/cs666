{
 "cells": [
  {
   "cell_type": "code",
   "execution_count": 3,
   "id": "7e49774c",
   "metadata": {},
   "outputs": [
    {
     "name": "stdout",
     "output_type": "stream",
     "text": [
      "Requirement already satisfied: numpy in /home/ravat/venvs/iot_env/lib/python3.13/site-packages (2.3.3)\n",
      "Requirement already satisfied: pandas in /home/ravat/venvs/iot_env/lib/python3.13/site-packages (2.3.2)\n",
      "Requirement already satisfied: matplotlib in /home/ravat/venvs/iot_env/lib/python3.13/site-packages (3.10.6)\n",
      "Requirement already satisfied: python-dateutil>=2.8.2 in /home/ravat/venvs/iot_env/lib/python3.13/site-packages (from pandas) (2.9.0.post0)\n",
      "Requirement already satisfied: pytz>=2020.1 in /home/ravat/venvs/iot_env/lib/python3.13/site-packages (from pandas) (2025.2)\n",
      "Requirement already satisfied: tzdata>=2022.7 in /home/ravat/venvs/iot_env/lib/python3.13/site-packages (from pandas) (2025.2)\n",
      "Requirement already satisfied: contourpy>=1.0.1 in /home/ravat/venvs/iot_env/lib/python3.13/site-packages (from matplotlib) (1.3.3)\n",
      "Requirement already satisfied: cycler>=0.10 in /home/ravat/venvs/iot_env/lib/python3.13/site-packages (from matplotlib) (0.12.1)\n",
      "Requirement already satisfied: fonttools>=4.22.0 in /home/ravat/venvs/iot_env/lib/python3.13/site-packages (from matplotlib) (4.60.0)\n",
      "Requirement already satisfied: kiwisolver>=1.3.1 in /home/ravat/venvs/iot_env/lib/python3.13/site-packages (from matplotlib) (1.4.9)\n",
      "Requirement already satisfied: packaging>=20.0 in /home/ravat/venvs/iot_env/lib/python3.13/site-packages (from matplotlib) (25.0)\n",
      "Requirement already satisfied: pillow>=8 in /home/ravat/venvs/iot_env/lib/python3.13/site-packages (from matplotlib) (11.3.0)\n",
      "Requirement already satisfied: pyparsing>=2.3.1 in /home/ravat/venvs/iot_env/lib/python3.13/site-packages (from matplotlib) (3.2.5)\n",
      "Requirement already satisfied: six>=1.5 in /home/ravat/venvs/iot_env/lib/python3.13/site-packages (from python-dateutil>=2.8.2->pandas) (1.17.0)\n"
     ]
    },
    {
     "ename": "ModuleNotFoundError",
     "evalue": "No module named 'pandas'",
     "output_type": "error",
     "traceback": [
      "\u001b[0;31m---------------------------------------------------------------------------\u001b[0m",
      "\u001b[0;31mModuleNotFoundError\u001b[0m                       Traceback (most recent call last)",
      "Cell \u001b[0;32mIn[3], line 4\u001b[0m\n\u001b[1;32m      2\u001b[0m \u001b[38;5;66;03m# Step 1: Import libraries\u001b[39;00m\n\u001b[1;32m      3\u001b[0m \u001b[38;5;28;01mimport\u001b[39;00m \u001b[38;5;21;01mnumpy\u001b[39;00m \u001b[38;5;28;01mas\u001b[39;00m \u001b[38;5;21;01mnp\u001b[39;00m    \u001b[38;5;66;03m#for numerical, arrays, vectorized maths\u001b[39;00m\n\u001b[0;32m----> 4\u001b[0m \u001b[38;5;28;01mimport\u001b[39;00m \u001b[38;5;21;01mpandas\u001b[39;00m \u001b[38;5;28;01mas\u001b[39;00m \u001b[38;5;21;01mpd\u001b[39;00m   \u001b[38;5;66;03m# read csv and preprocessing\u001b[39;00m\n\u001b[1;32m      5\u001b[0m \u001b[38;5;28;01mimport\u001b[39;00m \u001b[38;5;21;01mmatplotlib\u001b[39;00m\u001b[38;5;21;01m.\u001b[39;00m\u001b[38;5;21;01mpyplot\u001b[39;00m \u001b[38;5;28;01mas\u001b[39;00m \u001b[38;5;21;01mplt\u001b[39;00m  \u001b[38;5;66;03m# for plotting\u001b[39;00m\n",
      "\u001b[0;31mModuleNotFoundError\u001b[0m: No module named 'pandas'"
     ]
    }
   ],
   "source": [
    "\n",
    "# Step 1: Import libraries\n",
    "import numpy as np    #for numerical, arrays, vectorized maths\n",
    "import pandas as pd   # read csv and preprocessing\n",
    "import matplotlib.pyplot as plt  # for plotting"
   ]
  },
  {
   "cell_type": "code",
   "execution_count": null,
   "id": "cec92959",
   "metadata": {},
   "outputs": [],
   "source": [
    "# Step 2: read data (load traces)\n",
    "traceFilePath=\"../data/aes_power_tracesNew_28_07_2025_100k.csv\""
   ]
  },
  {
   "cell_type": "code",
   "execution_count": null,
   "id": "d5a364cd",
   "metadata": {},
   "outputs": [],
   "source": [
    "# if using google colab \n",
    "# from google.colab import drive\n",
    "#drive.mount('/content/drive')\n",
    "# traceFilePath= '/content/drive/MyDrive/cs666/a2_cpa_aes/data/aes_power_tracesNew_28_07_2025_100k.csv'"
   ]
  },
  {
   "cell_type": "code",
   "execution_count": null,
   "id": "3993637b",
   "metadata": {},
   "outputs": [],
   "source": [
    "\n",
    "# count traces\n",
    "total_traces = 0\n",
    "with open(traceFilePath, 'r') as f:\n",
    "    next(f)  # skip first row if header\n",
    "    for line in f:\n",
    "        total_traces += 1\n",
    "print(\"Total traces (D):\", total_traces)\n",
    "D=total_traces\n",
    "\n",
    "# Read first row to detect number of columns\n",
    "# df_sample = pd.read_csv(traceFilePath,nrows=10) \n",
    "traceFile = pd.read_csv(traceFilePath, header=None, skiprows=1, nrows=10)\n",
    "total_cols = traceFile.shape[1]\n",
    "N = total_cols - 2\n",
    "print (\" Column 0: Plain text, column 1: Cipher text, col 2-1248 samples per trace\")\n",
    "print(\"Number of power samples per trace (N):\", N)\n",
    "print(\"D\",total_traces,\"N=\",N)\n",
    "\n",
    "print(\"Full CSV shape:\", traceFile.shape)\n",
    "# print(\"\\nFirst 5 rows of CSV:\")\n",
    "# print(traceFile.head(2))\n",
    "\n",
    "# print(\"\\nFirst trace row (all columns):\")\n",
    "# print(traceFile.iloc[0, :])\n",
    "\n",
    "print(\"\\nNumber of columns in first 5 rows:\")\n",
    "for i in range(5):\n",
    "    print(f\"Row {i}: {len(traceFile.iloc[i, :])}\")\n"
   ]
  },
  {
   "cell_type": "code",
   "execution_count": null,
   "id": "fac17bad",
   "metadata": {},
   "outputs": [],
   "source": [
    "import numpy as np\n",
    "\n",
    "# AES inverse S-box (0-255)\n",
    "inv_sbox = np.array([\n",
    "    0x52,0x09,0x6a,0xd5,0x30,0x36,0xa5,0x38,0xbf,0x40,0xa3,0x9e,0x81,0xf3,0xd7,0xfb,\n",
    "    0x7c,0xe3,0x39,0x82,0x9b,0x2f,0xff,0x87,0x34,0x8e,0x43,0x44,0xc4,0xde,0xe9,0xcb,\n",
    "    0x54,0x7b,0x94,0x32,0xa6,0xc2,0x23,0x3d,0xee,0x4c,0x95,0x0b,0x42,0xfa,0xc3,0x4e,\n",
    "    0x08,0x2e,0xa1,0x66,0x28,0xd9,0x24,0xb2,0x76,0x5b,0xa2,0x49,0x6d,0x8b,0xd1,0x25,\n",
    "    0x72,0xf8,0xf6,0x64,0x86,0x68,0x98,0x16,0xd4,0xa4,0x5c,0xcc,0x5d,0x65,0xb6,0x92,\n",
    "    0x6c,0x70,0x48,0x50,0xfd,0xed,0xb9,0xda,0x5e,0x15,0x46,0x57,0xa7,0x8d,0x9d,0x84,\n",
    "    0x90,0xd8,0xab,0x00,0x8c,0xbc,0xd3,0x0a,0xf7,0xe4,0x58,0x05,0xb8,0xb3,0x45,0x06,\n",
    "    0xd0,0x2c,0x1e,0x8f,0xca,0x3f,0x0f,0x02,0xc1,0xaf,0xbd,0x03,0x01,0x13,0x8a,0x6b,\n",
    "    0x3a,0x91,0x11,0x41,0x4f,0x67,0xdc,0xea,0x97,0xf2,0xcf,0xce,0xf0,0xb4,0xe6,0x73,\n",
    "    0x96,0xac,0x74,0x22,0xe7,0xad,0x35,0x85,0xe2,0xf9,0x37,0xe8,0x1c,0x75,0xdf,0x6e,\n",
    "    0x47,0xf1,0x1a,0x71,0x1d,0x29,0xc5,0x89,0x6f,0xb7,0x62,0x0e,0xaa,0x18,0xbe,0x1b,\n",
    "    0xfc,0x56,0x3e,0x4b,0xc6,0xd2,0x79,0x20,0x9a,0xdb,0xc0,0xfe,0x78,0xcd,0x5a,0xf4,\n",
    "    0x1f,0xdd,0xa8,0x33,0x88,0x07,0xc7,0x31,0xb1,0x12,0x10,0x59,0x27,0x80,0xec,0x5f,\n",
    "    0x60,0x51,0x7f,0xa9,0x19,0xb5,0x4a,0x0d,0x2d,0xe5,0x7a,0x9f,0x93,0xc9,0x9c,0xef,\n",
    "    0xa0,0xe0,0x3b,0x4d,0xae,0x2a,0xf5,0xb0,0xc8,0xeb,0xbb,0x3c,0x83,0x53,0x99,0x61,\n",
    "    0x17,0x2b,0x04,0x7e,0xba,0x77,0xd6,0x26,0xe1,0x69,0x14,0x63,0x55,0x21,0x0c,0x7d\n",
    "], dtype=np.uint8)\n",
    "\n",
    "# Precompute Hamming weight lookup table for 0-255\n",
    "hw_table = np.unpackbits(np.arange(256, dtype=np.uint8)[:, None], axis=1).sum(axis=1)\n"
   ]
  },
  {
   "cell_type": "markdown",
   "id": "513d518f",
   "metadata": {},
   "source": [
    "Now we will build H matrix"
   ]
  },
  {
   "cell_type": "code",
   "execution_count": null,
   "id": "e5744b10",
   "metadata": {},
   "outputs": [],
   "source": [
    "# Step 3: Load dataset (small chunk first for testing)\n",
    "usedD=20000\n",
    "traceFile =T= pd.read_csv(traceFilePath,header=None,skiprows=1, nrows=usedD) # header=None to avoid panda to use first row as column identity\n",
    "# print(traceFile.head())\n",
    "# print(traceFile.columns)"
   ]
  },
  {
   "cell_type": "code",
   "execution_count": null,
   "id": "8cafc0f0",
   "metadata": {},
   "outputs": [],
   "source": [
    "# Extract the target ciphertext byte (example: byte index 0)\n",
    "# Convert hex string to integer\n",
    "c_bytes = traceFile[1].apply(lambda x: int(x[2:4], 16)).to_numpy(dtype=np.uint8)  # pick first byte for example"
   ]
  },
  {
   "cell_type": "code",
   "execution_count": null,
   "id": "c5531855",
   "metadata": {},
   "outputs": [],
   "source": [
    "# Build H\n",
    "G=256  # key guess [0....255]\n",
    "# Initialize H matrix\n",
    "H = np.zeros((usedD, G), dtype=np.uint8)\n",
    "for d in range(usedD):\n",
    "    for g in range(G):\n",
    "        V = inv_sbox[c_bytes[d] ^ g]      # V(d,g) = S⁻¹(C[d] ⊕ k_g)\n",
    "        H[d, g] = hw_table[V]             # HW(V)"
   ]
  },
  {
   "cell_type": "code",
   "execution_count": null,
   "id": "c5d55a8a",
   "metadata": {},
   "outputs": [],
   "source": [
    "# c_bytes shape: (D,)\n",
    "# Expand to (D x 256) for all guesses\n",
    "#V_all = np.bitwise_xor(c_bytes[:, None], np.arange(256, dtype=np.uint8)[None, :])\n",
    "# Apply inverse S-box\n",
    "# V_all = inv_sbox[V_all]\n",
    "# Convert to Hamming weight\n",
    "# H = hw_table[V_all]  # shape: (D, 256)\n"
   ]
  },
  {
   "cell_type": "code",
   "execution_count": null,
   "id": "a159ae66",
   "metadata": {},
   "outputs": [],
   "source": [
    "#just to confirm H matrix\n",
    "print(\"H shape:\", H.shape)   # Should be (number_of_traces, 256)\n",
    "print(\"H dtype:\", H.dtype)   # Usually uint8 or int\n",
    "print(\"H sample (first 5 traces, first 10 guesses):\")\n",
    "print(H[:5, :10])\n",
    "print(\"Min value in H:\", H.min())  #0\n",
    "print(\"Max value in H:\", H.max())  #8\n",
    "\n",
    "d = 0\n",
    "g = 42  # example key guess\n",
    "V = inv_sbox[c_bytes[d] ^ g]\n",
    "hw_manual = bin(V).count('1')\n",
    "print(\"Manual HW:\", hw_manual)\n",
    "print(\"H[0,42]:\", H[d, g])\n",
    "import matplotlib.pyplot as plt\n",
    "\n",
    "# plt.hist(H.flatten(), bins=range(10), edgecolor='k')\n",
    "# plt.title(\"Histogram of Hamming weights in H\")\n",
    "# plt.xlabel(\"Hamming weight\")\n",
    "# plt.ylabel(\"Frequency\")\n",
    "# plt.show()\n"
   ]
  },
  {
   "cell_type": "code",
   "execution_count": null,
   "id": "91d92333",
   "metadata": {},
   "outputs": [],
   "source": [
    "T = traceFile.iloc[:, 2:].to_numpy(dtype=np.float32)  # shape (D, N)\n",
    "\n",
    "print(\"Power trace matrix shape:\", traceFile.shape)\n",
    "print(\"Power trace matrix shape:\", T.shape)\n",
    "print(\"H matrix shape:\", H.shape)"
   ]
  },
  {
   "cell_type": "code",
   "execution_count": null,
   "id": "e634862c",
   "metadata": {},
   "outputs": [],
   "source": [
    "# # Extract power traces only\n",
    "# T = traceFile.iloc[:, 2:].to_numpy(dtype=np.float32)  # shape (D, N)\n",
    "\n",
    "# print(\"H matrix shape:\", H.shape)\n",
    "# print(\"Power trace matrix shape:\", T.shape)\n",
    "\n",
    "\n",
    "# H = np.array(H, dtype=np.uint8)    # H: (D, 256)\n",
    "# T = np.array(T, dtype=np.float32)  # T: (D, N)\n",
    "\n",
    "\n",
    "\n",
    "# D, G = H.shape\n",
    "# _, N = T.shape\n",
    "\n",
    "# # Initialize correlation matrix (G x N)\n",
    "# corr_matrix = np.zeros((G, N))\n",
    "\n",
    "# # Compute correlation for each guess g and each sample point n\n",
    "# for g in range(G):\n",
    "#     for n in range(N):\n",
    "#         # Pearson correlation formula\n",
    "#         h = H[:, g]\n",
    "#         t = T[:, n]\n",
    "#         corr = np.corrcoef(h, t)[0, 1]  # 2x2 corrcoef → pick [0,1]\n",
    "#         corr_matrix[g, n] = corr\n",
    "\n",
    "# print(\"Correlation matrix shape:\", corr_matrix.shape)\n"
   ]
  },
  {
   "cell_type": "code",
   "execution_count": null,
   "id": "e87a5fb5",
   "metadata": {},
   "outputs": [],
   "source": [
    "# Subtract mean along traces (axis=0)\n",
    "H_centered = H - H.mean(axis=0, keepdims=True)  # shape D x 256\n",
    "T_centered = T - T.mean(axis=0, keepdims=True)  # shape D x N\n",
    "\n",
    "# Compute numerator: covariance between H[:, g] and T[:, n] for all g,n\n",
    "# H_centered.T @ T_centered → shape 256 x N\n",
    "numerator = H_centered.T @ T_centered  # matrix multiplication\n",
    "\n",
    "# Compute denominator: std(H[:, g]) * std(T[:, n])\n",
    "std_H = H_centered.std(axis=0)[:, None]  # shape 256 x 1\n",
    "std_T = T_centered.std(axis=0)[None, :]  # shape 1 x N\n",
    "denominator = std_H * std_T\n",
    "\n",
    "# Pearson correlation matrix\n",
    "corr_matrix_fast = numerator / denominator\n",
    "\n",
    "print(\"Correlation matrix shape:\", corr_matrix_fast.shape)\n"
   ]
  },
  {
   "cell_type": "code",
   "execution_count": null,
   "id": "d239d387",
   "metadata": {},
   "outputs": [],
   "source": [
    "import matplotlib.pyplot as plt\n",
    "\n",
    "# Find key guess with max absolute correlation across all sample points\n",
    "guess_max = np.argmax(np.max(np.abs(corr_matrix), axis=1))\n",
    "print(\"Most likely key byte (0-255):\", guess_max)\n",
    "\n",
    "# Optional: plot correlation for all guesses\n",
    "plt.plot(np.max(np.abs(corr_matrix), axis=1))\n",
    "plt.xlabel(\"Key guess (0-255)\")\n",
    "plt.ylabel(\"Max absolute correlation\")\n",
    "plt.title(\"CPA: Candidate Key Correlation\")\n",
    "plt.show()\n"
   ]
  }
 ],
 "metadata": {
  "kernelspec": {
   "display_name": "Python 3 (ipykernel)",
   "language": "python",
   "name": "python3"
  },
  "language_info": {
   "codemirror_mode": {
    "name": "ipython",
    "version": 3
   },
   "file_extension": ".py",
   "mimetype": "text/x-python",
   "name": "python",
   "nbconvert_exporter": "python",
   "pygments_lexer": "ipython3",
   "version": "3.13.7"
  }
 },
 "nbformat": 4,
 "nbformat_minor": 5
}
